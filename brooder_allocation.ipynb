{
 "cells": [
  {
   "cell_type": "markdown",
   "metadata": {
    "tags": []
   },
   "source": [
    "# Brooder and Finisher Optimizer for Turkey Logistics\n",
    "\n",
    "## Objective and Prerequisites\n",
    "\n",
    "A large turkey grower must transport young turkeys from barns called brooders to barns\n",
    "called finishers. There are 10 brooders and 62 finishers within a ~50 mile radius of the\n",
    "processing facility. Currently, the company transports birds from the brooder to the first\n",
    "available (or one of a few available) finisher even if they must transport to the furthest finisher\n",
    "from the brooder that is being emptied that week. Therefore, if a linear program (LP) could be\n",
    "formulated seeking to minimize the distance traveled the company may benefit by reducing\n",
    "transportation costs and bird mortality.\n",
    "\n",
    "**Download the Repository** <br /> \n",
    "You can download the repository containing this and other examples by clicking [here](https://github.com/bazylhorsey/livestock-logistic-optimizer). \n",
    "\n",
    "**Gurobi License** <br />\n",
    "In order to run this Jupyter Notebook properly, you must have a Gurobi license. If you do not have one, you can request an [evaluation license](https://www.gurobi.com/downloads/request-an-evaluation-license/?utm_source=3PW&utm_medium=OT&utm_campaign=WW-MU-MFG-OR-O_LEA-PR_NO-Q3_FY20_WW_JPME_food-manufacturing_2_COM_EVAL_GITHUB_&utm_term=food-manufacturing-problem&utm_content=C_JPM) as a *commercial user*, or download a [free license](https://www.gurobi.com/academia/academic-program-and-licenses/?utm_source=3PW&utm_medium=OT&utm_campaign=WW-MU-MFG-OR-O_LEA-PR_NO-Q3_FY20_WW_JPME_food-manufacturing_2_ACADEMIC_EVAL_GITHUB_&utm_term=food-manufacturing-problem&utm_content=C_JPM) as an *academic user*.\n",
    "\n",
    "---\n",
    "## Problem Description\n",
    "\n",
    "The objective function of the problem will be to minimize the miles driven between\n",
    "brooders and finishers over one year\n",
    "Before constraints can be written, a proper understanding of the turkey growing operation\n",
    "must be acquired. The birds (called “poults” at this point in their life) are purchased and\n",
    "delivered at one day old from nearby hatcheries and spend roughly the first 35 days of their lives\n",
    "living in barns called brooders. A brooder can typically hold anywhere between 100,000 and\n",
    "170,000 poults. After 35 days have elapsed and the poults have nearly outgrown the brooder barn\n",
    "they are transported on trucks (approximately 3,000 at a time) to farms called finishers. A\n",
    "finisher is comprised of two to five barns with each barn having a capacity of 11,000 birds. After\n",
    "brooder barns are emptied they are cleaned and the bedding (of sawdust) is changed; this process\n",
    "typically takes about 19 days. Once birds have been emptied into a finisher they grow for an\n",
    "additional 105 days before being loading onto trucks and are taken to the plant. After a finisher is\n",
    "emptied it is cleaned over a period of roughly 20 days and prepared for the next flock of birds.\n",
    "Several years ago there was an international pandemic of avian flu which culled the birds\n",
    "of many poultry operations in the region and around the world. Since that avian flu outbreak\n",
    "poultry growers have enacted strict biosecurity measures to ensure the health and quality of their\n",
    "birds. One such measure is to mandate that no birds of different age groups are mixed together.\n",
    "For practical purposes, “same age” is taken to mean that they are born within one week apart.\n",
    "\n",
    "There are a number of factors which might be relevant in the “real world” but cannot be\n",
    "considered in this model due the difficulty involved in representing them mathematically. Some\n",
    "of these factors include:\n",
    "\n",
    "- Bird mortality: typically mortality is roughly 3% in brooders and 12% in finishers. Bird\n",
    "mortality could be described as stochastic and is dependent on travel time, weather, bird\n",
    "stress, and overall bird health\n",
    "\n",
    "- Birds of the same age in different brooders: if birds of the same age are raised in different\n",
    "brooders it is permissible for them to be placed at the same finisher\n",
    "\n",
    "- Inexactness of capacity: while brooders and finishers have certain capacities it is unusual\n",
    "for them to contain that exact amount of birds. For example, sometimes a finisher barn\n",
    "may be slightly overfilled with 11,500 birds or underfilled with only 10,000 birds.\n",
    "Additionally, sometimes brooders will contain fewer than their capacity allows due to\n",
    "mortality or the hatchery slightly underdelivering on an order\n",
    "\n",
    "- Inexactness of growing and cleaning times: often birds may stay in a brooder or finisher\n",
    "for longer than 35 or 105 days. For example, if the processing facility is unable to keep\n",
    "up with the production schedule (which was determine 1-2 years in advance) due to\n",
    "insufficient labor, birds may end up staying in a finisher for an additional 30 days or\n",
    "more. Additionally, a farmer may take shorter or longer than 19 or 20 days to clean their\n",
    "barn after it is emptied\n",
    "\n",
    "While important to consider, these points will not be factored into this particular model\n",
    "formulation. However, should the company wish to run a full-scale model if this preliminary one\n",
    "proves successful some of these may be wise to consider.\n",
    "\n",
    "\n",
    "For the purposes of this model there are three main types of constraints and\n",
    "considerations:\n",
    "- Turkey life cycle\n",
    "  - Brooders\n",
    "    - Each brooder is occupied for 35 days prior to being emptied\n",
    "    - Each brooder is cleaned over a period of 19 days after it is emptied\n",
    "    - Therefore, it could be said that the average brooder is emptied (365/54) = 6.759 times per year\n",
    "  - Finishers\n",
    "    - Each finisher is occupied for 105 days prior to being emptied\n",
    "    - Each finisher is cleaned over a period of 20 days after it is emptied\n",
    "    - Therefore, it could be said that the average finisher receives (365/125) = 2.92 flocks of birds from brooders per year\n",
    "- Farm and truck capacity\n",
    "  - Brooders\n",
    "    - Each brooder has a certain capacity of between 110,000 and 170,000\n",
    "    - All brooders must be completely emptied after 35 days\n",
    "  - Finishers\n",
    "    - Each finisher may contain anywhere between 2 and 5 barns\n",
    "    - Each barn has a capacity of 11,000 birds\n",
    "    - Therefore, each finisher (farm) has a capacity of 22,000, 33,000, 44,000, or 55,000\n",
    "    - The capacity of birds a finisher/ a group of finishers may receive from any given brooder over a year must be equal to or exceed the amount of birds that are actually sent to it\n",
    "  - Trucks\n",
    "    - Each truck can carry only 3,000 birds at a time\n",
    "    - Therefore, the number of truckloads required to transport birds from brooders to finishers are 8, 11, 15, and 19 for finishers of capacity 22,000, 33,000, 44,000, 55,000 respectively (truckloads are rounded up because there can be no fraction of a load)\n",
    "- Biosecurity\n",
    "  - Birds may only be in the same brooder or finisher if they are born no more than a week apart\n",
    "  - (For this scaled-down problem) Each finisher may be assigned only one brooder. i.e. even if birds in different brooders are of the same age they still cannot be grouped together in the same finisher"
   ]
  },
  {
   "cell_type": "code",
   "execution_count": 55,
   "metadata": {
    "hide_input": true,
    "tags": [
     "remove-input"
    ]
   },
   "outputs": [
    {
     "data": {
      "text/html": [
       "<div>\n",
       "<style scoped>\n",
       "    .dataframe tbody tr th:only-of-type {\n",
       "        vertical-align: middle;\n",
       "    }\n",
       "\n",
       "    .dataframe tbody tr th {\n",
       "        vertical-align: top;\n",
       "    }\n",
       "\n",
       "    .dataframe thead th {\n",
       "        text-align: right;\n",
       "    }\n",
       "</style>\n",
       "<table border=\"1\" class=\"dataframe\">\n",
       "  <thead>\n",
       "    <tr style=\"text-align: right;\">\n",
       "      <th></th>\n",
       "      <th>Capacity</th>\n",
       "      <th>Distance Coefficient</th>\n",
       "    </tr>\n",
       "  </thead>\n",
       "  <tbody>\n",
       "    <tr>\n",
       "      <th>0</th>\n",
       "      <td>55000</td>\n",
       "      <td>19</td>\n",
       "    </tr>\n",
       "    <tr>\n",
       "      <th>1</th>\n",
       "      <td>55000</td>\n",
       "      <td>19</td>\n",
       "    </tr>\n",
       "    <tr>\n",
       "      <th>2</th>\n",
       "      <td>55000</td>\n",
       "      <td>19</td>\n",
       "    </tr>\n",
       "    <tr>\n",
       "      <th>3</th>\n",
       "      <td>55000</td>\n",
       "      <td>19</td>\n",
       "    </tr>\n",
       "    <tr>\n",
       "      <th>4</th>\n",
       "      <td>55000</td>\n",
       "      <td>19</td>\n",
       "    </tr>\n",
       "    <tr>\n",
       "      <th>5</th>\n",
       "      <td>55000</td>\n",
       "      <td>19</td>\n",
       "    </tr>\n",
       "    <tr>\n",
       "      <th>6</th>\n",
       "      <td>55000</td>\n",
       "      <td>19</td>\n",
       "    </tr>\n",
       "    <tr>\n",
       "      <th>7</th>\n",
       "      <td>55000</td>\n",
       "      <td>19</td>\n",
       "    </tr>\n",
       "    <tr>\n",
       "      <th>8</th>\n",
       "      <td>55000</td>\n",
       "      <td>19</td>\n",
       "    </tr>\n",
       "    <tr>\n",
       "      <th>9</th>\n",
       "      <td>55000</td>\n",
       "      <td>19</td>\n",
       "    </tr>\n",
       "    <tr>\n",
       "      <th>10</th>\n",
       "      <td>44000</td>\n",
       "      <td>15</td>\n",
       "    </tr>\n",
       "    <tr>\n",
       "      <th>11</th>\n",
       "      <td>55000</td>\n",
       "      <td>19</td>\n",
       "    </tr>\n",
       "    <tr>\n",
       "      <th>12</th>\n",
       "      <td>55000</td>\n",
       "      <td>19</td>\n",
       "    </tr>\n",
       "    <tr>\n",
       "      <th>13</th>\n",
       "      <td>55000</td>\n",
       "      <td>19</td>\n",
       "    </tr>\n",
       "    <tr>\n",
       "      <th>14</th>\n",
       "      <td>55000</td>\n",
       "      <td>19</td>\n",
       "    </tr>\n",
       "    <tr>\n",
       "      <th>15</th>\n",
       "      <td>55000</td>\n",
       "      <td>19</td>\n",
       "    </tr>\n",
       "    <tr>\n",
       "      <th>16</th>\n",
       "      <td>55000</td>\n",
       "      <td>19</td>\n",
       "    </tr>\n",
       "    <tr>\n",
       "      <th>17</th>\n",
       "      <td>55000</td>\n",
       "      <td>19</td>\n",
       "    </tr>\n",
       "    <tr>\n",
       "      <th>18</th>\n",
       "      <td>55000</td>\n",
       "      <td>19</td>\n",
       "    </tr>\n",
       "    <tr>\n",
       "      <th>19</th>\n",
       "      <td>55000</td>\n",
       "      <td>19</td>\n",
       "    </tr>\n",
       "    <tr>\n",
       "      <th>20</th>\n",
       "      <td>55000</td>\n",
       "      <td>19</td>\n",
       "    </tr>\n",
       "    <tr>\n",
       "      <th>21</th>\n",
       "      <td>44000</td>\n",
       "      <td>15</td>\n",
       "    </tr>\n",
       "    <tr>\n",
       "      <th>22</th>\n",
       "      <td>44000</td>\n",
       "      <td>15</td>\n",
       "    </tr>\n",
       "    <tr>\n",
       "      <th>23</th>\n",
       "      <td>44000</td>\n",
       "      <td>15</td>\n",
       "    </tr>\n",
       "    <tr>\n",
       "      <th>24</th>\n",
       "      <td>44000</td>\n",
       "      <td>15</td>\n",
       "    </tr>\n",
       "    <tr>\n",
       "      <th>25</th>\n",
       "      <td>44000</td>\n",
       "      <td>15</td>\n",
       "    </tr>\n",
       "    <tr>\n",
       "      <th>26</th>\n",
       "      <td>44000</td>\n",
       "      <td>15</td>\n",
       "    </tr>\n",
       "    <tr>\n",
       "      <th>27</th>\n",
       "      <td>44000</td>\n",
       "      <td>15</td>\n",
       "    </tr>\n",
       "    <tr>\n",
       "      <th>28</th>\n",
       "      <td>55000</td>\n",
       "      <td>19</td>\n",
       "    </tr>\n",
       "  </tbody>\n",
       "</table>\n",
       "</div>"
      ],
      "text/plain": [
       "    Capacity   Distance Coefficient\n",
       "0      55000                     19\n",
       "1      55000                     19\n",
       "2      55000                     19\n",
       "3      55000                     19\n",
       "4      55000                     19\n",
       "5      55000                     19\n",
       "6      55000                     19\n",
       "7      55000                     19\n",
       "8      55000                     19\n",
       "9      55000                     19\n",
       "10     44000                     15\n",
       "11     55000                     19\n",
       "12     55000                     19\n",
       "13     55000                     19\n",
       "14     55000                     19\n",
       "15     55000                     19\n",
       "16     55000                     19\n",
       "17     55000                     19\n",
       "18     55000                     19\n",
       "19     55000                     19\n",
       "20     55000                     19\n",
       "21     44000                     15\n",
       "22     44000                     15\n",
       "23     44000                     15\n",
       "24     44000                     15\n",
       "25     44000                     15\n",
       "26     44000                     15\n",
       "27     44000                     15\n",
       "28     55000                     19"
      ]
     },
     "execution_count": 55,
     "metadata": {},
     "output_type": "execute_result"
    }
   ],
   "source": [
    "import pandas as pd\n",
    "\n",
    "df = pd.read_csv(\"data/finisher.csv\", nrows=29)\n",
    "df\n"
   ]
  },
  {
   "cell_type": "markdown",
   "metadata": {
    "tags": []
   },
   "source": [
    "---\n",
    "## Model Formulation\n",
    "\n",
    "### Sets and Indices\n",
    "\n",
    "$f \\in \\text{Finishers}=\\{\\text{0..n\\}}$: Serial set of finishers.\n",
    "\n",
    "$b \\in \\text{Brooders}=\\{\\text{0..n\\}}$: Serial set of brooders.\n",
    "\n",
    "\n",
    "### Parameters\n",
    "\n",
    "$\\text{capacity}_f \\in \\mathbb{N}^+$: Capacity of finisher $f$.\n",
    "\n",
    "$\\text{capacity}_b \\in \\mathbb{N}^+$: Capacity of brooder $b$.\n",
    "\n",
    "$\\text{distance}_{b,f} \\in \\mathbb{R}^+$: Distance between brooder $b$ and finisher $f$ (in miles).\n",
    "\n",
    "### Decision Variables\n",
    "\n",
    "$\\text{x}_{b, f} \\in \\{0,1\\}$: 1 if finisher $f$ is to recieve birds from brooder $b$, 0 otherwise.\n",
    "\n",
    "\n",
    "### Objective Function\n",
    "\n",
    "- **Distance**: Minimize the total distance (in miles) to deliver brooder stock to finishers.\n",
    "\n",
    "\\begin{equation}\n",
    "\\text{Minimize} \\quad Z = 2.994 \\sum_{f \\in \\text{Finishers}}\\sum_{b \\in \\text{Brooders}}(\\text{distance}_{b,f}*\\text{x}_{b, f})\n",
    "\\tag{0}\n",
    "\\end{equation}\n",
    "\n",
    "### Constraints\n",
    "\n",
    "<!-- - **Initial Balance:** The Tons of oil $o$ purchased in January and the ones previously stored should be equal to the Tons of said oil consumed and stored in that month.\n",
    "\n",
    "\\begin{equation}\n",
    "\\text{init store} + \\text{buy}_{Jan,o} = \\text{consume}_{Jan,o} + \\text{store}_{Jan,o} \\quad \\forall o \\in \\text{Oils}\n",
    "\\tag{1}\n",
    "\\end{equation}\n",
    "\n",
    "- **Balance:** The Tons of oil $o$ purchased in month $t$ and the ones previously stored should be equal to the Tons of said oil consumed and stored in that month.\n",
    "\n",
    "\\begin{equation}\n",
    "\\text{store}_{t-1,o} + \\text{buy}_{t,o} = \\text{consume}_{t,o} + \\text{store}_{t,o} \\quad \\forall (t,o) \\in \\text{Months} \\setminus \\{\\text{Jan}\\} \\times \\text{Oils}\n",
    "\\tag{2}\n",
    "\\end{equation}\n",
    "\n",
    "- **Inventory Target**: The Tons of oil $o$ kept in inventory at the end of the planning horizon should hit the target.\n",
    "\n",
    "\\begin{equation}\n",
    "\\text{store}_{Jun,o} = \\text{target_store} \\quad \\forall o \\in \\text{Oils}\n",
    "\\tag{3}\n",
    "\\end{equation}\n",
    "\n",
    "- **Refinement Capacity**: Total Tons of oil $o$ consumed in month $t$ cannot exceed the refinement capacity.\n",
    "\n",
    "\\begin{equation}\n",
    "\\sum_{o \\in V}\\text{consume}_{t,o} \\leq \\text{veg_cap} \\quad \\forall t \\in \\text{Months}\n",
    "\\tag{4.1}\n",
    "\\end{equation}\n",
    "\n",
    "\\begin{equation}\n",
    "\\sum_{o \\in N}\\text{consume}_{t,o} \\leq \\text{oil_cap} \\quad \\forall t \\in \\text{Months}\n",
    "\\tag{4.2}\n",
    "\\end{equation}\n",
    "\n",
    "- **Hardness**: The hardness value of the food produced in month $t$ should be within tolerances.\n",
    "\n",
    "\\begin{equation}\n",
    "\\text{min_hardness}*\\text{produce}_t \\leq \\sum_{o \\in \\text{Oils}} \\text{hardness}_o*\\text{consume}_{t,o} \\leq \\text{max_hardness}*\\text{produce}_t \\quad \\forall t \\in \\text{Months}\n",
    "\\tag{5}\n",
    "\\end{equation}\n",
    "\n",
    "- **Mass Conservation**: Total Tons of oil consumed in month $t$ should be equal to the Tons of the food produced in that month.\n",
    "\n",
    "\\begin{equation}\n",
    "\\sum_{o \\in \\text{Oils}}\\text{consume}_{t,o} = \\text{produce}_t \\quad \\forall t \\in \\text{Months}\n",
    "\\tag{6}\n",
    "\\end{equation}\n",
    "\n",
    "- **Consumption Range**: Oil $o$ can be consumed in month $t$ if we decide to use it in that month, and the Tons consumed should be between 20 and the refinement capacity for its type. \n",
    "\n",
    "\\begin{equation}\n",
    "\\text{min_consume}*\\text{use}_{t,o} \\leq \\text{consume}_{t,o} \\leq \\text{veg_cap}*\\text{use}_{t,o} \\quad \\forall (t,o) \\in V \\times \\text{Months}\n",
    "\\tag{7.1}\n",
    "\\end{equation}\n",
    "\n",
    "\\begin{equation}\n",
    "\\text{min_consume}*\\text{use}_{t,o} \\leq \\text{consume}_{t,o} \\leq \\text{oil_cap}*\\text{use}_{t,o} \\quad \\forall (t,o) \\in N \\times \\text{Months}\n",
    "\\tag{7.2}\n",
    "\\end{equation}\n",
    "\n",
    "- **Recipe**: The maximum number of oils used in month $t$ must be three.\n",
    "\n",
    "\\begin{equation}\n",
    "\\sum_{o \\in \\text{Oils}}\\text{use}_{t,o} \\leq \\text{max_ingredients} \\quad \\forall t \\in \\text{Months}\n",
    "\\tag{8}\n",
    "\\end{equation}\n",
    "\n",
    "- **If-then Constraint**: If oils VEG1 or VEG2 are used in month $t$, then OIL3 must be used in that month.\n",
    "\n",
    "\\begin{equation}\n",
    "\\text{use}_{t,\\text{VEG1}} \\leq \\text{use}_{t,\\text{OIL3}} \\quad \\forall t \\in \\text{Months}\n",
    "\\tag{9.1}\n",
    "\\end{equation}\n",
    "\n",
    "\\begin{equation}\n",
    "\\text{use}_{t,\\text{VEG2}} \\leq \\text{use}_{t,\\text{OIL3}} \\quad \\forall t \\in \\text{Months}\n",
    "\\tag{9.2}\n",
    "\\end{equation} -->\n",
    "\n",
    "---\n",
    "## Python Implementation\n",
    "We import the Gurobi Python Module and other Python libraries."
   ]
  },
  {
   "cell_type": "code",
   "execution_count": null,
   "metadata": {
    "collapsed": true
   },
   "outputs": [],
   "source": [
    "import numpy as np\n",
    "import pandas as pd\n",
    "\n",
    "import gurobipy as gp\n",
    "from gurobipy import GRB\n",
    "\n",
    "# tested with Python 3.7 & Gurobi 9"
   ]
  },
  {
   "cell_type": "markdown",
   "metadata": {},
   "source": [
    "## Input Data\n",
    "We define all the input data of the model."
   ]
  },
  {
   "cell_type": "code",
   "execution_count": null,
   "metadata": {
    "collapsed": true,
    "jupyter": {
     "source_hidden": true
    },
    "tags": []
   },
   "outputs": [],
   "source": [
    "# Parameters\n",
    "\n",
    "import pandas as pd\n",
    "\n",
    "distances_frame = pd.read_csv(\"data/distance.csv\", index_col=None)\n",
    "brooders_frame = pd.read_csv(\"data/brooder.csv\")\n",
    "finishers_frame = pd.read_csv(\"data/finisher.csv\")\n",
    "\n",
    "\n",
    "FINISHERS = [*range(0, len(df.axes[0]) + 1)]\n",
    "BROODERS = [*range(0, len(df.axes[1]) + 1)]\n",
    "\n",
    "brooder_capacity = []\n",
    "for index, row in brooders_frame.iterrows():\n",
    "    brooder_capacity.append(row[0])\n",
    "    \n",
    "finisher_capacity = []\n",
    "finisher_distance_k = []\n",
    "for index, row in finishers_frame.iterrows():\n",
    "    finisher_capacity.append(row[0])\n",
    "    finisher_distance_k.append(row[1])\n",
    "\n",
    "# example\n",
    "# distance = distances_frame.to_dict()\n",
    "\n",
    "# print(distance\n",
    "# TODO: { (f,b):d, (f,b):d, ... }\n",
    "\n",
    "distance = {(0,0):13}\n",
    "\n",
    "# for i, finisher in distances_frame.iterrows():\n",
    "#     print(dict(finisher))\n",
    "\n",
    "        \n",
    "        \n",
    "\n",
    "BROODER_OUTPUT = 6.715\n",
    "FINISHER_INPUT = 2.944\n"
   ]
  },
  {
   "cell_type": "markdown",
   "metadata": {
    "tags": []
   },
   "source": [
    "## Model Deployment\n",
    "\n",
    "Explain\n"
   ]
  },
  {
   "cell_type": "code",
   "execution_count": null,
   "metadata": {
    "collapsed": true
   },
   "outputs": [],
   "source": [
    "# model goes here"
   ]
  },
  {
   "cell_type": "markdown",
   "metadata": {},
   "source": [
    "Explain what constraints do"
   ]
  },
  {
   "cell_type": "code",
   "execution_count": null,
   "metadata": {
    "collapsed": true,
    "tags": []
   },
   "outputs": [],
   "source": [
    "# constraints go here"
   ]
  },
  {
   "cell_type": "markdown",
   "metadata": {},
   "source": [
    "More on constraints?"
   ]
  },
  {
   "cell_type": "code",
   "execution_count": null,
   "metadata": {
    "collapsed": true
   },
   "outputs": [],
   "source": [
    "# constraints go here"
   ]
  },
  {
   "cell_type": "markdown",
   "metadata": {},
   "source": [
    "More on constraints?"
   ]
  },
  {
   "cell_type": "code",
   "execution_count": null,
   "metadata": {
    "collapsed": true
   },
   "outputs": [],
   "source": [
    "# constraints go here"
   ]
  },
  {
   "cell_type": "markdown",
   "metadata": {},
   "source": [
    "More on constraints"
   ]
  },
  {
   "cell_type": "markdown",
   "metadata": {},
   "source": [
    "The objective is to minimize overall distance traveled."
   ]
  },
  {
   "cell_type": "code",
   "execution_count": null,
   "metadata": {
    "collapsed": true
   },
   "outputs": [],
   "source": [
    "# Objective Function\n"
   ]
  },
  {
   "cell_type": "markdown",
   "metadata": {},
   "source": [
    "Next, we start the optimization and Gurobi finds the optimal solution."
   ]
  },
  {
   "cell_type": "code",
   "execution_count": null,
   "metadata": {
    "collapsed": true
   },
   "outputs": [],
   "source": [
    "minimize_distance.optimize()"
   ]
  },
  {
   "cell_type": "markdown",
   "metadata": {},
   "source": [
    "---\n",
    "## Analysis\n",
    "\n",
    "Analysis and thoughts\n",
    "\n",
    "### Travel Plan\n",
    "Defines the amount of miles driven if the model is used."
   ]
  },
  {
   "cell_type": "code",
   "execution_count": null,
   "metadata": {
    "collapsed": true
   },
   "outputs": [],
   "source": [
    "# Dataframe (table 2 in excel with pandas)"
   ]
  },
  {
   "cell_type": "markdown",
   "metadata": {},
   "source": [
    "### Chosen Route Plan\n",
    "\n",
    "Defines which route a brooder is allowed to deliver to within the constraints."
   ]
  },
  {
   "cell_type": "code",
   "execution_count": null,
   "metadata": {
    "collapsed": true
   },
   "outputs": [],
   "source": [
    "# Dataframe (table 3 in excel with pandas)"
   ]
  },
  {
   "cell_type": "markdown",
   "metadata": {},
   "source": [
    "Note: If you want to write your solution to a file, rather than print it to the terminal, you can use the model.write() command. An example implementation is:\n",
    "\n",
    "`minimize_distance.write(\"food-manufacture-2-output.sol\")`\n",
    "\n",
    "---\n",
    "## References\n",
    "\n",
    "Copyright © Griffin Wilson and Bazyl Horsey"
   ]
  }
 ],
 "metadata": {
  "celltoolbar": "Edit Metadata",
  "kernelspec": {
   "display_name": "Python 3 (ipykernel)",
   "language": "python",
   "name": "python3"
  },
  "language_info": {
   "codemirror_mode": {
    "name": "ipython",
    "version": 3
   },
   "file_extension": ".py",
   "mimetype": "text/x-python",
   "name": "python",
   "nbconvert_exporter": "python",
   "pygments_lexer": "ipython3",
   "version": "3.9.7"
  }
 },
 "nbformat": 4,
 "nbformat_minor": 4
}
